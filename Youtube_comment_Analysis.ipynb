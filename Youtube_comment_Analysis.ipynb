{
 "cells": [
  {
   "cell_type": "code",
   "execution_count": 1,
   "metadata": {
    "collapsed": false
   },
   "outputs": [
    {
     "name": "stdout",
     "output_type": "stream",
     "text": [
      "C:\\Users\\adity\n"
     ]
    }
   ],
   "source": [
    "cd"
   ]
  },
  {
   "cell_type": "code",
   "execution_count": 2,
   "metadata": {
    "collapsed": false
   },
   "outputs": [
    {
     "name": "stdout",
     "output_type": "stream",
     "text": [
      "C:\\Users\\adity\\Desktop\\task\n"
     ]
    }
   ],
   "source": [
    "cd C:\\Users\\adity\\Desktop\\task"
   ]
  },
  {
   "cell_type": "code",
   "execution_count": 3,
   "metadata": {
    "collapsed": true
   },
   "outputs": [],
   "source": [
    "import pandas as pd\n",
    "import numpy as np"
   ]
  },
  {
   "cell_type": "code",
   "execution_count": 9,
   "metadata": {
    "collapsed": true
   },
   "outputs": [],
   "source": [
    "data= pd.read_csv(\"test.csv\")"
   ]
  },
  {
   "cell_type": "code",
   "execution_count": 10,
   "metadata": {
    "collapsed": false
   },
   "outputs": [
    {
     "data": {
      "text/html": [
       "<div>\n",
       "<table border=\"1\" class=\"dataframe\">\n",
       "  <thead>\n",
       "    <tr style=\"text-align: right;\">\n",
       "      <th></th>\n",
       "      <th>comments</th>\n",
       "    </tr>\n",
       "  </thead>\n",
       "  <tbody>\n",
       "    <tr>\n",
       "      <th>0</th>\n",
       "      <td>I love this song!</td>\n",
       "    </tr>\n",
       "    <tr>\n",
       "      <th>1</th>\n",
       "      <td>cookie monster should definitely have a medal ...</td>\n",
       "    </tr>\n",
       "    <tr>\n",
       "      <th>2</th>\n",
       "      <td>c starts with can and cup</td>\n",
       "    </tr>\n",
       "    <tr>\n",
       "      <th>3</th>\n",
       "      <td>c</td>\n",
       "    </tr>\n",
       "    <tr>\n",
       "      <th>4</th>\n",
       "      <td>H is for Help bc cookie moster should of gott ...</td>\n",
       "    </tr>\n",
       "    <tr>\n",
       "      <th>5</th>\n",
       "      <td>Why is cookie monster does not get diabetes</td>\n",
       "    </tr>\n",
       "    <tr>\n",
       "      <th>6</th>\n",
       "      <td>Lll</td>\n",
       "    </tr>\n",
       "    <tr>\n",
       "      <th>7</th>\n",
       "      <td>my moms dog hats this song her name is cookie</td>\n",
       "    </tr>\n",
       "    <tr>\n",
       "      <th>8</th>\n",
       "      <td>i feel like this guy attended harvard for music</td>\n",
       "    </tr>\n",
       "    <tr>\n",
       "      <th>9</th>\n",
       "      <td>I kept singing this at math class and my class...</td>\n",
       "    </tr>\n",
       "    <tr>\n",
       "      <th>10</th>\n",
       "      <td>That a Real rap😎🍪</td>\n",
       "    </tr>\n",
       "    <tr>\n",
       "      <th>11</th>\n",
       "      <td>And now he's the head coach at LSU!</td>\n",
       "    </tr>\n",
       "    <tr>\n",
       "      <th>12</th>\n",
       "      <td>Please rise for our national anthem.</td>\n",
       "    </tr>\n",
       "    <tr>\n",
       "      <th>13</th>\n",
       "      <td>I love cookie moster and this song c is for co...</td>\n",
       "    </tr>\n",
       "    <tr>\n",
       "      <th>14</th>\n",
       "      <td>Rhett and link anyone?</td>\n",
       "    </tr>\n",
       "    <tr>\n",
       "      <th>15</th>\n",
       "      <td>This is my life😂😂</td>\n",
       "    </tr>\n",
       "    <tr>\n",
       "      <th>16</th>\n",
       "      <td>sounds like heavy metal</td>\n",
       "    </tr>\n",
       "    <tr>\n",
       "      <th>17</th>\n",
       "      <td>This was my jam as a 1st and 2nd grader.</td>\n",
       "    </tr>\n",
       "    <tr>\n",
       "      <th>18</th>\n",
       "      <td>P is for....</td>\n",
       "    </tr>\n",
       "    <tr>\n",
       "      <th>19</th>\n",
       "      <td>Penguin. I know you were thinking of another w...</td>\n",
       "    </tr>\n",
       "    <tr>\n",
       "      <th>20</th>\n",
       "      <td>chocolate rain</td>\n",
       "    </tr>\n",
       "    <tr>\n",
       "      <th>21</th>\n",
       "      <td>*bites cookie* COOKIE COOKIE COOKIE COOKIE COO...</td>\n",
       "    </tr>\n",
       "    <tr>\n",
       "      <th>22</th>\n",
       "      <td>Lol</td>\n",
       "    </tr>\n",
       "    <tr>\n",
       "      <th>23</th>\n",
       "      <td>쿠키쿠키ㅋㅋㅋ</td>\n",
       "    </tr>\n",
       "    <tr>\n",
       "      <th>24</th>\n",
       "      <td>Babies national anthem</td>\n",
       "    </tr>\n",
       "    <tr>\n",
       "      <th>25</th>\n",
       "      <td>Gfu</td>\n",
       "    </tr>\n",
       "    <tr>\n",
       "      <th>26</th>\n",
       "      <td>U</td>\n",
       "    </tr>\n",
       "    <tr>\n",
       "      <th>27</th>\n",
       "      <td>P is for Pony that's good enough for me</td>\n",
       "    </tr>\n",
       "    <tr>\n",
       "      <th>28</th>\n",
       "      <td>C is for Clown president not good at all for me</td>\n",
       "    </tr>\n",
       "    <tr>\n",
       "      <th>29</th>\n",
       "      <td>I noticed Oscar is singing.</td>\n",
       "    </tr>\n",
       "    <tr>\n",
       "      <th>...</th>\n",
       "      <td>...</td>\n",
       "    </tr>\n",
       "    <tr>\n",
       "      <th>77</th>\n",
       "      <td>0:01 use that as your channel logo and comment</td>\n",
       "    </tr>\n",
       "    <tr>\n",
       "      <th>78</th>\n",
       "      <td>So ehhhh.....who got a craving for cookies aft...</td>\n",
       "    </tr>\n",
       "    <tr>\n",
       "      <th>79</th>\n",
       "      <td>Nowdays people instead of Cookies its iphone a...</td>\n",
       "    </tr>\n",
       "    <tr>\n",
       "      <th>80</th>\n",
       "      <td>when I was little my parents sang \"C is for Ch...</td>\n",
       "    </tr>\n",
       "    <tr>\n",
       "      <th>81</th>\n",
       "      <td>my name is Chloe. :)</td>\n",
       "    </tr>\n",
       "    <tr>\n",
       "      <th>82</th>\n",
       "      <td>I always wondered what 'C' was for.</td>\n",
       "    </tr>\n",
       "    <tr>\n",
       "      <th>83</th>\n",
       "      <td>ha silly cookie monster</td>\n",
       "    </tr>\n",
       "    <tr>\n",
       "      <th>84</th>\n",
       "      <td>This is a good song</td>\n",
       "    </tr>\n",
       "    <tr>\n",
       "      <th>85</th>\n",
       "      <td>Me in a Web Design lecture eating cookies.</td>\n",
       "    </tr>\n",
       "    <tr>\n",
       "      <th>86</th>\n",
       "      <td>i see grover and harry in the background</td>\n",
       "    </tr>\n",
       "    <tr>\n",
       "      <th>87</th>\n",
       "      <td>C is for cancer</td>\n",
       "    </tr>\n",
       "    <tr>\n",
       "      <th>88</th>\n",
       "      <td>when i was child .. i always dream to have som...</td>\n",
       "    </tr>\n",
       "    <tr>\n",
       "      <th>89</th>\n",
       "      <td>Why am i watching this at 2am</td>\n",
       "    </tr>\n",
       "    <tr>\n",
       "      <th>90</th>\n",
       "      <td>I love it</td>\n",
       "    </tr>\n",
       "    <tr>\n",
       "      <th>91</th>\n",
       "      <td>Oh my god... this was my favorite song when I ...</td>\n",
       "    </tr>\n",
       "    <tr>\n",
       "      <th>92</th>\n",
       "      <td>lol</td>\n",
       "    </tr>\n",
       "    <tr>\n",
       "      <th>93</th>\n",
       "      <td>Cool</td>\n",
       "    </tr>\n",
       "    <tr>\n",
       "      <th>94</th>\n",
       "      <td>:D</td>\n",
       "    </tr>\n",
       "    <tr>\n",
       "      <th>95</th>\n",
       "      <td>NICE</td>\n",
       "    </tr>\n",
       "    <tr>\n",
       "      <th>96</th>\n",
       "      <td>ANOYING</td>\n",
       "    </tr>\n",
       "    <tr>\n",
       "      <th>97</th>\n",
       "      <td>Frank Oz as Cookie Monster</td>\n",
       "    </tr>\n",
       "    <tr>\n",
       "      <th>98</th>\n",
       "      <td>sesame street will always helps me remember Ji...</td>\n",
       "    </tr>\n",
       "    <tr>\n",
       "      <th>99</th>\n",
       "      <td>C is for cookie that's good enough for me</td>\n",
       "    </tr>\n",
       "    <tr>\n",
       "      <th>100</th>\n",
       "      <td>Batman sings C is for cookie.</td>\n",
       "    </tr>\n",
       "    <tr>\n",
       "      <th>101</th>\n",
       "      <td>Such a good song I love it !</td>\n",
       "    </tr>\n",
       "    <tr>\n",
       "      <th>102</th>\n",
       "      <td>C is for Clitoris. That can't be found by me.</td>\n",
       "    </tr>\n",
       "    <tr>\n",
       "      <th>103</th>\n",
       "      <td>I'm here because grog strongjaw</td>\n",
       "    </tr>\n",
       "    <tr>\n",
       "      <th>104</th>\n",
       "      <td>0:39</td>\n",
       "    </tr>\n",
       "    <tr>\n",
       "      <th>105</th>\n",
       "      <td>COOKIE KUKI C  IS FOR COOKIE/KUKI  (a magyarok...</td>\n",
       "    </tr>\n",
       "    <tr>\n",
       "      <th>106</th>\n",
       "      <td>so cute</td>\n",
       "    </tr>\n",
       "  </tbody>\n",
       "</table>\n",
       "<p>107 rows × 1 columns</p>\n",
       "</div>"
      ],
      "text/plain": [
       "                                              comments\n",
       "0                                    I love this song!\n",
       "1    cookie monster should definitely have a medal ...\n",
       "2                            c starts with can and cup\n",
       "3                                                    c\n",
       "4    H is for Help bc cookie moster should of gott ...\n",
       "5          Why is cookie monster does not get diabetes\n",
       "6                                                  Lll\n",
       "7        my moms dog hats this song her name is cookie\n",
       "8      i feel like this guy attended harvard for music\n",
       "9    I kept singing this at math class and my class...\n",
       "10                                 That a Real rap😎🍪\n",
       "11                 And now he's the head coach at LSU!\n",
       "12                Please rise for our national anthem.\n",
       "13   I love cookie moster and this song c is for co...\n",
       "14                              Rhett and link anyone?\n",
       "15                                 This is my life😂😂\n",
       "16                             sounds like heavy metal\n",
       "17            This was my jam as a 1st and 2nd grader.\n",
       "18                                        P is for....\n",
       "19   Penguin. I know you were thinking of another w...\n",
       "20                                      chocolate rain\n",
       "21   *bites cookie* COOKIE COOKIE COOKIE COOKIE COO...\n",
       "22                                                 Lol\n",
       "23                                             쿠키쿠키ㅋㅋㅋ\n",
       "24                              Babies national anthem\n",
       "25                                                 Gfu\n",
       "26                                                   U\n",
       "27             P is for Pony that's good enough for me\n",
       "28     C is for Clown president not good at all for me\n",
       "29                         I noticed Oscar is singing.\n",
       "..                                                 ...\n",
       "77      0:01 use that as your channel logo and comment\n",
       "78   So ehhhh.....who got a craving for cookies aft...\n",
       "79   Nowdays people instead of Cookies its iphone a...\n",
       "80   when I was little my parents sang \"C is for Ch...\n",
       "81                                my name is Chloe. :)\n",
       "82                 I always wondered what 'C' was for.\n",
       "83                             ha silly cookie monster\n",
       "84                                 This is a good song\n",
       "85          Me in a Web Design lecture eating cookies.\n",
       "86            i see grover and harry in the background\n",
       "87                                     C is for cancer\n",
       "88   when i was child .. i always dream to have som...\n",
       "89                       Why am i watching this at 2am\n",
       "90                                           I love it\n",
       "91   Oh my god... this was my favorite song when I ...\n",
       "92                                                 lol\n",
       "93                                                Cool\n",
       "94                                                  :D\n",
       "95                                                NICE\n",
       "96                                             ANOYING\n",
       "97                          Frank Oz as Cookie Monster\n",
       "98   sesame street will always helps me remember Ji...\n",
       "99           C is for cookie that's good enough for me\n",
       "100                      Batman sings C is for cookie.\n",
       "101                       Such a good song I love it !\n",
       "102      C is for Clitoris. That can't be found by me.\n",
       "103                    I'm here because grog strongjaw\n",
       "104                                               0:39\n",
       "105  COOKIE KUKI C  IS FOR COOKIE/KUKI  (a magyarok...\n",
       "106                                            so cute\n",
       "\n",
       "[107 rows x 1 columns]"
      ]
     },
     "execution_count": 10,
     "metadata": {},
     "output_type": "execute_result"
    }
   ],
   "source": [
    "data"
   ]
  },
  {
   "cell_type": "code",
   "execution_count": 6,
   "metadata": {
    "collapsed": true
   },
   "outputs": [],
   "source": [
    "import nltk"
   ]
  },
  {
   "cell_type": "code",
   "execution_count": 7,
   "metadata": {
    "collapsed": true
   },
   "outputs": [],
   "source": [
    "import re\n",
    "import nltk\n",
    "#nltk.download('stopwords')\n",
    "from nltk.corpus import stopwords\n",
    "from nltk.stem.porter import PorterStemmer"
   ]
  },
  {
   "cell_type": "code",
   "execution_count": 8,
   "metadata": {
    "collapsed": true
   },
   "outputs": [],
   "source": [
    "corpus = []"
   ]
  },
  {
   "cell_type": "code",
   "execution_count": 11,
   "metadata": {
    "collapsed": false
   },
   "outputs": [
    {
     "data": {
      "text/plain": [
       "107"
      ]
     },
     "execution_count": 11,
     "metadata": {},
     "output_type": "execute_result"
    }
   ],
   "source": [
    "len(data.axes[0])"
   ]
  },
  {
   "cell_type": "code",
   "execution_count": 12,
   "metadata": {
    "collapsed": true
   },
   "outputs": [],
   "source": [
    "for i in range(0, len(data.axes[0])-1):\n",
    "    review = re.sub('[^a-zA-Z]', ' ', data['comments'][i])\n",
    "    review = review.lower()\n",
    "    review = review.split()\n",
    "    ps = PorterStemmer()\n",
    "    review = [ps.stem(word) for word in review if not word in set(stopwords.words('english'))]\n",
    "    review = ' '.join(review)\n",
    "    corpus.append(review)"
   ]
  },
  {
   "cell_type": "code",
   "execution_count": 13,
   "metadata": {
    "collapsed": false
   },
   "outputs": [
    {
     "data": {
      "text/plain": [
       "['love song',\n",
       " u'cooki monster definit medal gold card mcdonald',\n",
       " u'c start cup',\n",
       " 'c',\n",
       " u'h help bc cooki moster gott help',\n",
       " u'cooki monster get diabet',\n",
       " 'lll',\n",
       " u'mom dog hat song name cooki',\n",
       " u'feel like guy attend harvard music',\n",
       " u'kept sing math class classmat understand',\n",
       " 'real rap',\n",
       " 'head coach lsu',\n",
       " u'pleas rise nation anthem',\n",
       " u'love cooki moster song c cooki',\n",
       " u'rhett link anyon',\n",
       " 'life',\n",
       " u'sound like heavi metal',\n",
       " 'jam st nd grader',\n",
       " 'p',\n",
       " u'penguin know think anoth word',\n",
       " u'chocol rain',\n",
       " u'bite cooki cooki cooki cooki cooki cooki cooki cooki cooki cooki shape like c',\n",
       " 'lol',\n",
       " '',\n",
       " u'babi nation anthem',\n",
       " 'gfu',\n",
       " 'u',\n",
       " u'p poni good enough',\n",
       " u'c clown presid good',\n",
       " u'notic oscar sing',\n",
       " '',\n",
       " 'c fo',\n",
       " u'smoke canist',\n",
       " u'cooki cookieeee cooki cooki',\n",
       " u'includ oscar grouch monster',\n",
       " u'cannot stop sing awesom song dont even hlding cooki',\n",
       " u'song awsom',\n",
       " 'feel old',\n",
       " u'duet franki boyl better',\n",
       " u'v veggi good enough',\n",
       " u'nation anthem comment think nation anthem',\n",
       " u'love song cute funni',\n",
       " '',\n",
       " 'iv never hard',\n",
       " u'favorit post grind vegan diabet fur death avant gard pre vegeterian blue core band',\n",
       " u'sesam street cooki monster sing c cooki season season',\n",
       " u'favourit song rn',\n",
       " u'c covfef good enough',\n",
       " u'fun fact part cooki monster goe c rest cut look close',\n",
       " 'still love',\n",
       " u'strong lyric',\n",
       " u'love comment thing littl kid parent',\n",
       " u'older kid teen adult question life desicion',\n",
       " u'heard year lol',\n",
       " u'letter chocol c',\n",
       " u'love cooki',\n",
       " 'childhood song',\n",
       " u'year cooki monster song',\n",
       " u'help fulli grown adult trap sesam street bing',\n",
       " u'c c nt mani themat',\n",
       " u'inde good song know cooki monster song sister believ one replac cooki monster sinc heard rumor replac veggi monster',\n",
       " '',\n",
       " u'love song much nephew use sing sing song littl us marin hahaha',\n",
       " 'loooooooooool',\n",
       " u'person find puppi middleton grotesqu look muscular arm bodi make head look larg let eat cooki happi',\n",
       " u'love cooki',\n",
       " u'si cooki',\n",
       " u'hum sorri k kooki',\n",
       " u'like cooki monster',\n",
       " u'piano lesson one song',\n",
       " 'ja rule',\n",
       " u'bring back mani memori',\n",
       " u'star cooki monster sesam street kako oobi',\n",
       " '',\n",
       " u'kid cartoon channel show video famili tyron isiah hargrov brother jessica jay troch big sister show put show',\n",
       " 'nba k anthem',\n",
       " u'top anim intro',\n",
       " 'use channel logo comment',\n",
       " u'ehhhh got crave cooki watch',\n",
       " u'nowday peopl instead cooki iphon social media sometim thing peopl know',\n",
       " u'littl parent sang c chloe good enough',\n",
       " 'name chloe',\n",
       " u'alway wonder c',\n",
       " u'ha silli cooki monster',\n",
       " 'good song',\n",
       " u'web design lectur eat cooki',\n",
       " u'see grover harri background',\n",
       " 'c cancer',\n",
       " u'child alway dream cooki cooki monster',\n",
       " u'watch',\n",
       " 'love',\n",
       " u'oh god favorit song kid',\n",
       " 'lol',\n",
       " 'cool',\n",
       " '',\n",
       " 'nice',\n",
       " u'anoy',\n",
       " u'frank oz cooki monster',\n",
       " u'sesam street alway help rememb jim henson',\n",
       " u'c cooki good enough',\n",
       " u'batman sing c cooki',\n",
       " 'good song love',\n",
       " u'c clitori found',\n",
       " 'grog strongjaw',\n",
       " '',\n",
       " u'cooki kuki c cooki kuki magyarok bizto rtik xd']"
      ]
     },
     "execution_count": 13,
     "metadata": {},
     "output_type": "execute_result"
    }
   ],
   "source": [
    "corpus"
   ]
  },
  {
   "cell_type": "code",
   "execution_count": 14,
   "metadata": {
    "collapsed": true
   },
   "outputs": [],
   "source": [
    "from sklearn.feature_extraction.text import CountVectorizer\n",
    "cv = CountVectorizer(max_features = 1500)\n",
    "X = cv.fit_transform(corpus).toarray()"
   ]
  },
  {
   "cell_type": "code",
   "execution_count": 15,
   "metadata": {
    "collapsed": false
   },
   "outputs": [
    {
     "data": {
      "text/plain": [
       "(106L, 255L)"
      ]
     },
     "execution_count": 15,
     "metadata": {},
     "output_type": "execute_result"
    }
   ],
   "source": [
    "X.shape"
   ]
  },
  {
   "cell_type": "code",
   "execution_count": 16,
   "metadata": {
    "collapsed": false
   },
   "outputs": [
    {
     "data": {
      "text/plain": [
       "array([[0, 0, 0, ..., 0, 0, 0],\n",
       "       [0, 0, 0, ..., 0, 0, 0],\n",
       "       [0, 0, 0, ..., 0, 0, 0],\n",
       "       ..., \n",
       "       [0, 0, 0, ..., 0, 0, 0],\n",
       "       [0, 0, 0, ..., 0, 0, 0],\n",
       "       [0, 0, 0, ..., 0, 1, 0]], dtype=int64)"
      ]
     },
     "execution_count": 16,
     "metadata": {},
     "output_type": "execute_result"
    }
   ],
   "source": [
    "X"
   ]
  },
  {
   "cell_type": "code",
   "execution_count": 17,
   "metadata": {
    "collapsed": false
   },
   "outputs": [
    {
     "name": "stdout",
     "output_type": "stream",
     "text": [
      "[u'adult', u'alway', u'anim', u'anoth', u'anoy', u'anthem', u'anyon', u'arm', u'attend', u'avant', u'awesom', u'awsom', u'babi', u'back', u'background', u'band', u'batman', u'bc', u'believ', u'better', u'big', u'bing', u'bite', u'bizto', u'blue', u'bodi', u'boyl', u'bring', u'brother', u'cancer', u'canist', u'cannot', u'card', u'cartoon', u'channel', u'child', u'childhood', u'chloe', u'chocol', u'class', u'classmat', u'clitori', u'close', u'clown', u'coach', u'comment', u'cooki', u'cookieeee', u'cool', u'core', u'covfef', u'crave', u'cup', u'cut', u'cute', u'death', u'definit', u'desicion', u'design', u'diabet', u'dog', u'dont', u'dream', u'duet', u'eat', u'ehhhh', u'enough', u'even', u'fact', u'famili', u'favorit', u'favourit', u'feel', u'find', u'fo', u'found', u'frank', u'franki', u'fulli', u'fun', u'funni', u'fur', u'gard', u'get', u'gfu', u'god', u'goe', u'gold', u'good', u'got', u'gott', u'grader', u'grind', u'grog', u'grotesqu', u'grouch', u'grover', u'grown', u'guy', u'ha', u'hahaha', u'happi', u'hard', u'hargrov', u'harri', u'harvard', u'hat', u'head', u'heard', u'heavi', u'help', u'henson', u'hlding', u'hum', u'includ', u'inde', u'instead', u'intro', u'iphon', u'isiah', u'iv', u'ja', u'jam', u'jay', u'jessica', u'jim', u'kako', u'kept', u'kid', u'know', u'kooki', u'kuki', u'larg', u'lectur', u'lesson', u'let', u'letter', u'life', u'like', u'link', u'littl', u'lll', u'logo', u'lol', u'look', u'loooooooooool', u'love', u'lsu', u'lyric', u'magyarok', u'make', u'mani', u'marin', u'math', u'mcdonald', u'medal', u'media', u'memori', u'metal', u'middleton', u'mom', u'monster', u'moster', u'much', u'muscular', u'music', u'name', u'nation', u'nba', u'nd', u'nephew', u'never', u'nice', u'notic', u'nowday', u'nt', u'oh', u'old', u'older', u'one', u'oobi', u'oscar', u'oz', u'parent', u'part', u'penguin', u'peopl', u'person', u'piano', u'pleas', u'poni', u'post', u'pre', u'presid', u'puppi', u'put', u'question', u'rain', u'rap', u'real', u'rememb', u'replac', u'rest', u'rhett', u'rise', u'rn', u'rtik', u'rule', u'rumor', u'sang', u'season', u'see', u'sesam', u'shape', u'show', u'si', u'silli', u'sinc', u'sing', u'sister', u'smoke', u'social', u'sometim', u'song', u'sorri', u'sound', u'st', u'star', u'start', u'still', u'stop', u'street', u'strong', u'strongjaw', u'teen', u'themat', u'thing', u'think', u'top', u'trap', u'troch', u'tyron', u'understand', u'us', u'use', u'vegan', u'vegeterian', u'veggi', u'video', u'watch', u'web', u'wonder', u'word', u'xd', u'year']\n"
     ]
    }
   ],
   "source": [
    "vocab = cv.get_feature_names()\n",
    "print vocab"
   ]
  },
  {
   "cell_type": "code",
   "execution_count": 18,
   "metadata": {
    "collapsed": false
   },
   "outputs": [
    {
     "name": "stdout",
     "output_type": "stream",
     "text": [
      "2 adult\n",
      "3 alway\n",
      "1 anim\n",
      "1 anoth\n",
      "1 anoy\n",
      "5 anthem\n",
      "1 anyon\n",
      "1 arm\n",
      "1 attend\n",
      "1 avant\n",
      "1 awesom\n",
      "1 awsom\n",
      "1 babi\n",
      "1 back\n",
      "1 background\n",
      "1 band\n",
      "1 batman\n",
      "1 bc\n",
      "1 believ\n",
      "1 better\n",
      "1 big\n",
      "1 bing\n",
      "1 bite\n",
      "1 bizto\n",
      "1 blue\n",
      "1 bodi\n",
      "1 boyl\n",
      "1 bring\n",
      "1 brother\n",
      "1 cancer\n",
      "1 canist\n",
      "1 cannot\n",
      "1 card\n",
      "1 cartoon\n",
      "2 channel\n",
      "1 child\n",
      "1 childhood\n",
      "2 chloe\n",
      "2 chocol\n",
      "1 class\n",
      "1 classmat\n",
      "1 clitori\n",
      "1 close\n",
      "1 clown\n",
      "1 coach\n",
      "3 comment\n",
      "43 cooki\n",
      "1 cookieeee\n",
      "1 cool\n",
      "1 core\n",
      "1 covfef\n",
      "1 crave\n",
      "1 cup\n",
      "1 cut\n",
      "1 cute\n",
      "1 death\n",
      "1 definit\n",
      "1 desicion\n",
      "1 design\n",
      "2 diabet\n",
      "1 dog\n",
      "1 dont\n",
      "1 dream\n",
      "1 duet\n",
      "2 eat\n",
      "1 ehhhh\n",
      "5 enough\n",
      "1 even\n",
      "1 fact\n",
      "1 famili\n",
      "2 favorit\n",
      "1 favourit\n",
      "2 feel\n",
      "1 find\n",
      "1 fo\n",
      "1 found\n",
      "1 frank\n",
      "1 franki\n",
      "1 fulli\n",
      "1 fun\n",
      "1 funni\n",
      "1 fur\n",
      "1 gard\n",
      "1 get\n",
      "1 gfu\n",
      "1 god\n",
      "1 goe\n",
      "1 gold\n",
      "9 good\n",
      "1 got\n",
      "1 gott\n",
      "1 grader\n",
      "1 grind\n",
      "1 grog\n",
      "1 grotesqu\n",
      "1 grouch\n",
      "1 grover\n",
      "1 grown\n",
      "1 guy\n",
      "1 ha\n",
      "1 hahaha\n",
      "1 happi\n",
      "1 hard\n",
      "1 hargrov\n",
      "1 harri\n",
      "1 harvard\n",
      "1 hat\n",
      "2 head\n",
      "2 heard\n",
      "1 heavi\n",
      "4 help\n",
      "1 henson\n",
      "1 hlding\n",
      "1 hum\n",
      "1 includ\n",
      "1 inde\n",
      "1 instead\n",
      "1 intro\n",
      "1 iphon\n",
      "1 isiah\n",
      "1 iv\n",
      "1 ja\n",
      "1 jam\n",
      "1 jay\n",
      "1 jessica\n",
      "1 jim\n",
      "1 kako\n",
      "1 kept\n",
      "4 kid\n",
      "3 know\n",
      "1 kooki\n",
      "2 kuki\n",
      "1 larg\n",
      "1 lectur\n",
      "1 lesson\n",
      "1 let\n",
      "1 letter\n",
      "2 life\n",
      "4 like\n",
      "1 link\n",
      "3 littl\n",
      "1 lll\n",
      "1 logo\n",
      "3 lol\n",
      "3 look\n",
      "1 loooooooooool\n",
      "10 love\n",
      "1 lsu\n",
      "1 lyric\n",
      "1 magyarok\n",
      "1 make\n",
      "2 mani\n",
      "1 marin\n",
      "1 math\n",
      "1 mcdonald\n",
      "1 medal\n",
      "1 media\n",
      "1 memori\n",
      "1 metal\n",
      "1 middleton\n",
      "1 mom\n",
      "14 monster\n",
      "2 moster\n",
      "1 much\n",
      "1 muscular\n",
      "1 music\n",
      "2 name\n",
      "4 nation\n",
      "1 nba\n",
      "1 nd\n",
      "1 nephew\n",
      "1 never\n",
      "1 nice\n",
      "1 notic\n",
      "1 nowday\n",
      "1 nt\n",
      "1 oh\n",
      "1 old\n",
      "1 older\n",
      "2 one\n",
      "1 oobi\n",
      "2 oscar\n",
      "1 oz\n",
      "2 parent\n",
      "1 part\n",
      "1 penguin\n",
      "2 peopl\n",
      "1 person\n",
      "1 piano\n",
      "1 pleas\n",
      "1 poni\n",
      "1 post\n",
      "1 pre\n",
      "1 presid\n",
      "1 puppi\n",
      "1 put\n",
      "1 question\n",
      "1 rain\n",
      "1 rap\n",
      "1 real\n",
      "1 rememb\n",
      "2 replac\n",
      "1 rest\n",
      "1 rhett\n",
      "1 rise\n",
      "1 rn\n",
      "1 rtik\n",
      "1 rule\n",
      "1 rumor\n",
      "1 sang\n",
      "2 season\n",
      "1 see\n",
      "4 sesam\n",
      "1 shape\n",
      "3 show\n",
      "1 si\n",
      "1 silli\n",
      "1 sinc\n",
      "7 sing\n",
      "2 sister\n",
      "1 smoke\n",
      "1 social\n",
      "1 sometim\n",
      "17 song\n",
      "1 sorri\n",
      "1 sound\n",
      "1 st\n",
      "1 star\n",
      "1 start\n",
      "1 still\n",
      "1 stop\n",
      "4 street\n",
      "1 strong\n",
      "1 strongjaw\n",
      "1 teen\n",
      "1 themat\n",
      "2 thing\n",
      "2 think\n",
      "1 top\n",
      "1 trap\n",
      "1 troch\n",
      "1 tyron\n",
      "1 understand\n",
      "1 us\n",
      "2 use\n",
      "1 vegan\n",
      "1 vegeterian\n",
      "2 veggi\n",
      "1 video\n",
      "2 watch\n",
      "1 web\n",
      "1 wonder\n",
      "1 word\n",
      "1 xd\n",
      "2 year\n"
     ]
    }
   ],
   "source": [
    "import numpy as np\n",
    "\n",
    "# Sum up the counts of each vocabulary word\n",
    "dist = np.sum(X, axis=0)\n",
    "\n",
    "# For each, print the vocabulary word and the number of times it \n",
    "# appears in the training set\n",
    "for tag, count in zip(vocab, dist):\n",
    "    print count, tag"
   ]
  },
  {
   "cell_type": "code",
   "execution_count": 19,
   "metadata": {
    "collapsed": true
   },
   "outputs": [],
   "source": [
    "transcript = pd.read_csv(\"transcript.csv\")"
   ]
  },
  {
   "cell_type": "code",
   "execution_count": 20,
   "metadata": {
    "collapsed": false
   },
   "outputs": [
    {
     "data": {
      "text/html": [
       "<div>\n",
       "<table border=\"1\" class=\"dataframe\">\n",
       "  <thead>\n",
       "    <tr style=\"text-align: right;\">\n",
       "      <th></th>\n",
       "      <th>Transcript</th>\n",
       "    </tr>\n",
       "  </thead>\n",
       "  <tbody>\n",
       "    <tr>\n",
       "      <th>0</th>\n",
       "      <td>COOKIE MONSTER: Now what startswith the letter...</td>\n",
       "    </tr>\n",
       "  </tbody>\n",
       "</table>\n",
       "</div>"
      ],
      "text/plain": [
       "                                          Transcript\n",
       "0  COOKIE MONSTER: Now what startswith the letter..."
      ]
     },
     "execution_count": 20,
     "metadata": {},
     "output_type": "execute_result"
    }
   ],
   "source": [
    "transcript"
   ]
  },
  {
   "cell_type": "code",
   "execution_count": 21,
   "metadata": {
    "collapsed": true
   },
   "outputs": [],
   "source": [
    "corpus_transcript=[]\n",
    "for i in range(0, 1):\n",
    "    review = re.sub('[^a-zA-Z]', ' ', transcript['Transcript'][i])\n",
    "    review = review.lower()\n",
    "    review = review.split()\n",
    "    ps = PorterStemmer()\n",
    "    review = [ps.stem(word) for word in review if not word in set(stopwords.words('english'))]\n",
    "    review = ' '.join(review)\n",
    "    corpus_transcript.append(review)"
   ]
  },
  {
   "cell_type": "code",
   "execution_count": 22,
   "metadata": {
    "collapsed": false
   },
   "outputs": [
    {
     "data": {
      "text/plain": [
       "[u'cooki monster startswith letter c cooki start c let sthink thing thatstart c ah caresabout thing c cooki good enough c cooki good enough c cooki good enough oh cooki cooki cookiestart c oh c cooki good enough c cooki good enough c cooki good enough oh cooki cooki cookiestart c hey know round cooki one biteout look like c around donut one bite ofit also look like c butit good cooki moon sometim look likea c eat c cooki good enough yeah c cooki good enough c cooki good enough oh cooki cooki cookiestart c yeah cooki cooki cooki startswith c oh boy cooki cooki cookiestart c']"
      ]
     },
     "execution_count": 22,
     "metadata": {},
     "output_type": "execute_result"
    }
   ],
   "source": [
    "corpus_transcript"
   ]
  },
  {
   "cell_type": "code",
   "execution_count": 23,
   "metadata": {
    "collapsed": true
   },
   "outputs": [],
   "source": [
    "cv1 = CountVectorizer(max_features = 1500)\n",
    "X1 = cv1.fit_transform(corpus_transcript).toarray()"
   ]
  },
  {
   "cell_type": "code",
   "execution_count": 24,
   "metadata": {
    "collapsed": false
   },
   "outputs": [
    {
     "data": {
      "text/plain": [
       "(1L, 34L)"
      ]
     },
     "execution_count": 24,
     "metadata": {},
     "output_type": "execute_result"
    }
   ],
   "source": [
    "X1.shape"
   ]
  },
  {
   "cell_type": "code",
   "execution_count": 25,
   "metadata": {
    "collapsed": false
   },
   "outputs": [
    {
     "data": {
      "text/plain": [
       "array([[ 1,  1,  1,  1,  1,  1,  1,  1, 24,  4,  1,  1,  9, 10,  1,  1,  1,\n",
       "         1,  2,  1,  3,  1,  1,  1,  5,  2,  1,  1,  1,  2,  1,  1,  2,  2]], dtype=int64)"
      ]
     },
     "execution_count": 25,
     "metadata": {},
     "output_type": "execute_result"
    }
   ],
   "source": [
    "X1"
   ]
  },
  {
   "cell_type": "code",
   "execution_count": 26,
   "metadata": {
    "collapsed": false
   },
   "outputs": [
    {
     "name": "stdout",
     "output_type": "stream",
     "text": [
      "[u'ah', u'also', u'around', u'bite', u'biteout', u'boy', u'butit', u'caresabout', u'cooki', u'cookiestart', u'donut', u'eat', u'enough', u'good', u'hey', u'know', u'let', u'letter', u'like', u'likea', u'look', u'monster', u'moon', u'ofit', u'oh', u'one', u'round', u'sometim', u'start', u'startswith', u'sthink', u'thatstart', u'thing', u'yeah']\n"
     ]
    }
   ],
   "source": [
    "vocab1 = cv1.get_feature_names()\n",
    "print vocab1"
   ]
  },
  {
   "cell_type": "code",
   "execution_count": 27,
   "metadata": {
    "collapsed": false
   },
   "outputs": [
    {
     "name": "stdout",
     "output_type": "stream",
     "text": [
      "1 adult\n",
      "1 alway\n",
      "1 anim\n",
      "1 anoth\n",
      "1 anoy\n",
      "1 anthem\n",
      "1 anyon\n",
      "1 arm\n",
      "24 attend\n",
      "4 avant\n",
      "1 awesom\n",
      "1 awsom\n",
      "9 babi\n",
      "10 back\n",
      "1 background\n",
      "1 band\n",
      "1 batman\n",
      "1 bc\n",
      "2 believ\n",
      "1 better\n",
      "3 big\n",
      "1 bing\n",
      "1 bite\n",
      "1 bizto\n",
      "5 blue\n",
      "2 bodi\n",
      "1 boyl\n",
      "1 bring\n",
      "1 brother\n",
      "2 cancer\n",
      "1 canist\n",
      "1 cannot\n",
      "2 card\n",
      "2 cartoon\n"
     ]
    }
   ],
   "source": [
    "import numpy as np\n",
    "\n",
    "# Sum up the counts of each vocabulary word\n",
    "dist = np.sum(X1, axis=0)\n",
    "\n",
    "# For each, print the vocabulary word and the number of times it \n",
    "# appears in the training set\n",
    "for tag, count in zip(vocab, dist):\n",
    "    print count, tag"
   ]
  },
  {
   "cell_type": "code",
   "execution_count": 28,
   "metadata": {
    "collapsed": true
   },
   "outputs": [],
   "source": [
    "# Wordnet"
   ]
  },
  {
   "cell_type": "code",
   "execution_count": 29,
   "metadata": {
    "collapsed": true
   },
   "outputs": [],
   "source": [
    "from nltk.corpus import wordnet as wn"
   ]
  },
  {
   "cell_type": "code",
   "execution_count": 30,
   "metadata": {
    "collapsed": true
   },
   "outputs": [],
   "source": [
    "from nltk import word_tokenize, pos_tag"
   ]
  },
  {
   "cell_type": "code",
   "execution_count": 31,
   "metadata": {
    "collapsed": false
   },
   "outputs": [
    {
     "data": {
      "text/plain": [
       "[(u'cooki', 'NN'),\n",
       " (u'monster', 'NN'),\n",
       " (u'startswith', 'VBP'),\n",
       " (u'letter', 'NN'),\n",
       " (u'c', 'NN'),\n",
       " (u'cooki', 'JJ'),\n",
       " (u'start', 'VBP'),\n",
       " (u'c', 'JJ'),\n",
       " (u'let', 'NN'),\n",
       " (u'sthink', 'VB'),\n",
       " (u'thing', 'NN'),\n",
       " (u'thatstart', 'NN'),\n",
       " (u'c', 'VBP'),\n",
       " (u'ah', 'NN'),\n",
       " (u'caresabout', 'NN'),\n",
       " (u'thing', 'NN'),\n",
       " (u'c', 'NN'),\n",
       " (u'cooki', 'NN'),\n",
       " (u'good', 'JJ'),\n",
       " (u'enough', 'RB'),\n",
       " (u'c', 'JJ'),\n",
       " (u'cooki', 'NN'),\n",
       " (u'good', 'JJ'),\n",
       " (u'enough', 'RB'),\n",
       " (u'c', 'JJ'),\n",
       " (u'cooki', 'NN'),\n",
       " (u'good', 'JJ'),\n",
       " (u'enough', 'RB'),\n",
       " (u'oh', 'JJ'),\n",
       " (u'cooki', 'NN'),\n",
       " (u'cooki', 'NN'),\n",
       " (u'cookiestart', 'NN'),\n",
       " (u'c', 'VBZ'),\n",
       " (u'oh', 'JJ'),\n",
       " (u'c', 'NNS'),\n",
       " (u'cooki', 'VBP'),\n",
       " (u'good', 'JJ'),\n",
       " (u'enough', 'RB'),\n",
       " (u'c', 'JJ'),\n",
       " (u'cooki', 'NN'),\n",
       " (u'good', 'JJ'),\n",
       " (u'enough', 'RB'),\n",
       " (u'c', 'JJ'),\n",
       " (u'cooki', 'NN'),\n",
       " (u'good', 'JJ'),\n",
       " (u'enough', 'RB'),\n",
       " (u'oh', 'JJ'),\n",
       " (u'cooki', 'NN'),\n",
       " (u'cooki', 'NN'),\n",
       " (u'cookiestart', 'NN'),\n",
       " (u'c', 'VBZ'),\n",
       " (u'hey', 'NNS'),\n",
       " (u'know', 'VBP'),\n",
       " (u'round', 'NN'),\n",
       " (u'cooki', 'VBP'),\n",
       " (u'one', 'CD'),\n",
       " (u'biteout', 'NN'),\n",
       " (u'look', 'NN'),\n",
       " (u'like', 'IN'),\n",
       " (u'c', 'NN'),\n",
       " (u'around', 'IN'),\n",
       " (u'donut', 'JJ'),\n",
       " (u'one', 'CD'),\n",
       " (u'bite', 'NN'),\n",
       " (u'ofit', 'NN'),\n",
       " (u'also', 'RB'),\n",
       " (u'look', 'VBP'),\n",
       " (u'like', 'IN'),\n",
       " (u'c', 'NNS'),\n",
       " (u'butit', 'RB'),\n",
       " (u'good', 'JJ'),\n",
       " (u'cooki', 'NN'),\n",
       " (u'moon', 'NN'),\n",
       " (u'sometim', 'JJ'),\n",
       " (u'look', 'NN'),\n",
       " (u'likea', 'JJ'),\n",
       " (u'c', 'NN'),\n",
       " (u'eat', 'NN'),\n",
       " (u'c', 'JJ'),\n",
       " (u'cooki', 'NN'),\n",
       " (u'good', 'JJ'),\n",
       " (u'enough', 'RB'),\n",
       " (u'yeah', 'VBP'),\n",
       " (u'c', 'NNS'),\n",
       " (u'cooki', 'VBP'),\n",
       " (u'good', 'JJ'),\n",
       " (u'enough', 'RB'),\n",
       " (u'c', 'JJ'),\n",
       " (u'cooki', 'NN'),\n",
       " (u'good', 'JJ'),\n",
       " (u'enough', 'RB'),\n",
       " (u'oh', 'JJ'),\n",
       " (u'cooki', 'NN'),\n",
       " (u'cooki', 'NN'),\n",
       " (u'cookiestart', 'NN'),\n",
       " (u'c', 'VBZ'),\n",
       " (u'yeah', 'UH'),\n",
       " (u'cooki', 'JJ'),\n",
       " (u'cooki', 'NN'),\n",
       " (u'cooki', 'NN'),\n",
       " (u'startswith', 'NN'),\n",
       " (u'c', 'NN'),\n",
       " (u'oh', 'UH'),\n",
       " (u'boy', 'NN'),\n",
       " (u'cooki', 'NN'),\n",
       " (u'cooki', 'JJ'),\n",
       " (u'cookiestart', 'NN'),\n",
       " (u'c', 'NN')]"
      ]
     },
     "execution_count": 31,
     "metadata": {},
     "output_type": "execute_result"
    }
   ],
   "source": [
    "pos_tag(word_tokenize(corpus_transcript[0]))"
   ]
  },
  {
   "cell_type": "code",
   "execution_count": 32,
   "metadata": {
    "collapsed": true
   },
   "outputs": [],
   "source": [
    "from __future__ import division\n",
    "def penn_to_wn(tag):\n",
    "    \"\"\" Convert between a Penn Treebank tag to a simplified Wordnet tag \"\"\"\n",
    "    if tag.startswith('N'):\n",
    "        return 'n'\n",
    " \n",
    "    if tag.startswith('V'):\n",
    "        return 'v'\n",
    " \n",
    "    if tag.startswith('J'):\n",
    "        return 'a'\n",
    " \n",
    "    if tag.startswith('R'):\n",
    "        return 'r'\n",
    " \n",
    "    return None\n",
    " \n",
    "def tagged_to_synset(word, tag):\n",
    "    wn_tag = penn_to_wn(tag)\n",
    "    if wn_tag is None:\n",
    "        return None\n",
    " \n",
    "    try:\n",
    "        return wn.synsets(word, wn_tag)[0]\n",
    "    except:\n",
    "        return None\n",
    " \n",
    "def sentence_similarity(sentence1, sentence2):\n",
    "    \"\"\" compute the sentence similarity using Wordnet \"\"\"\n",
    "    # Tokenize and tag\n",
    "    sentence1 = pos_tag(word_tokenize(sentence1))\n",
    "    sentence2 = pos_tag(word_tokenize(sentence2))\n",
    " \n",
    "    # Get the synsets for the tagged words\n",
    "    synsets1 = [tagged_to_synset(*tagged_word) for tagged_word in sentence1]\n",
    "    synsets2 = [tagged_to_synset(*tagged_word) for tagged_word in sentence2]\n",
    " \n",
    "    # Filter out the Nones\n",
    "    synsets1 = [ss for ss in synsets1 if ss]\n",
    "    synsets2 = [ss for ss in synsets2 if ss]\n",
    " \n",
    "    score, count = 0.0, 0\n",
    " \n",
    "    # For each word in the first sentence\n",
    "    for synset in synsets1:\n",
    "        # Get the similarity value of the most similar word in the other sentence\n",
    "        lst = list([synset.path_similarity(ss) for ss in synsets2])\n",
    "        if lst:\n",
    "            best_score = max([synset.path_similarity(ss) for ss in synsets2])\n",
    "            if best_score is not None:\n",
    "                score += best_score\n",
    "                count += 1\n",
    "        \n",
    "        else:\n",
    "            break\n",
    "            \n",
    "        \n",
    " \n",
    "    # Average the values\n",
    "    try:\n",
    "        score /= count\n",
    "    except ZeroDivisionError:\n",
    "        score = 0\n",
    "    return score"
   ]
  },
  {
   "cell_type": "code",
   "execution_count": 33,
   "metadata": {
    "collapsed": true
   },
   "outputs": [],
   "source": [
    "def symmetric_sentence_similarity(sentence1, sentence2):\n",
    "    return (sentence_similarity(sentence1, sentence2) + sentence_similarity(sentence2, sentence1)) / 2"
   ]
  },
  {
   "cell_type": "code",
   "execution_count": 34,
   "metadata": {
    "collapsed": false
   },
   "outputs": [
    {
     "name": "stdout",
     "output_type": "stream",
     "text": [
      "love song\n",
      "cooki monster definit medal gold card mcdonald\n",
      "c start cup\n",
      "c\n",
      "h help bc cooki moster gott help\n",
      "cooki monster get diabet\n",
      "lll\n",
      "mom dog hat song name cooki\n",
      "feel like guy attend harvard music\n",
      "kept sing math class classmat understand\n",
      "real rap\n",
      "head coach lsu\n",
      "pleas rise nation anthem\n",
      "love cooki moster song c cooki\n",
      "rhett link anyon\n",
      "life\n",
      "sound like heavi metal\n",
      "jam st nd grader\n",
      "p\n",
      "penguin know think anoth word\n",
      "chocol rain\n",
      "bite cooki cooki cooki cooki cooki cooki cooki cooki cooki cooki shape like c\n",
      "lol\n",
      "\n",
      "babi nation anthem\n",
      "gfu\n",
      "u\n",
      "p poni good enough\n",
      "c clown presid good\n",
      "notic oscar sing\n",
      "\n",
      "c fo\n",
      "smoke canist\n",
      "cooki cookieeee cooki cooki\n",
      "includ oscar grouch monster\n",
      "cannot stop sing awesom song dont even hlding cooki\n",
      "song awsom\n",
      "feel old\n",
      "duet franki boyl better\n",
      "v veggi good enough\n",
      "nation anthem comment think nation anthem\n",
      "love song cute funni\n",
      "\n",
      "iv never hard\n",
      "favorit post grind vegan diabet fur death avant gard pre vegeterian blue core band\n",
      "sesam street cooki monster sing c cooki season season\n",
      "favourit song rn\n",
      "c covfef good enough\n",
      "fun fact part cooki monster goe c rest cut look close\n",
      "still love\n",
      "strong lyric\n",
      "love comment thing littl kid parent\n",
      "older kid teen adult question life desicion\n",
      "heard year lol\n",
      "letter chocol c\n",
      "love cooki\n",
      "childhood song\n",
      "year cooki monster song\n",
      "help fulli grown adult trap sesam street bing\n",
      "c c nt mani themat\n",
      "inde good song know cooki monster song sister believ one replac cooki monster sinc heard rumor replac veggi monster\n",
      "\n",
      "love song much nephew use sing sing song littl us marin hahaha\n",
      "loooooooooool\n",
      "person find puppi middleton grotesqu look muscular arm bodi make head look larg let eat cooki happi\n",
      "love cooki\n",
      "si cooki\n",
      "hum sorri k kooki\n",
      "like cooki monster\n",
      "piano lesson one song\n",
      "ja rule\n",
      "bring back mani memori\n",
      "star cooki monster sesam street kako oobi\n",
      "\n",
      "kid cartoon channel show video famili tyron isiah hargrov brother jessica jay troch big sister show put show\n",
      "nba k anthem\n",
      "top anim intro\n",
      "use channel logo comment\n",
      "ehhhh got crave cooki watch\n",
      "nowday peopl instead cooki iphon social media sometim thing peopl know\n",
      "littl parent sang c chloe good enough\n",
      "name chloe\n",
      "alway wonder c\n",
      "ha silli cooki monster\n",
      "good song\n",
      "web design lectur eat cooki\n",
      "see grover harri background\n",
      "c cancer\n",
      "child alway dream cooki cooki monster\n",
      "watch\n",
      "love\n",
      "oh god favorit song kid\n",
      "lol\n",
      "cool\n",
      "\n",
      "nice\n",
      "anoy\n",
      "frank oz cooki monster\n",
      "sesam street alway help rememb jim henson\n",
      "c cooki good enough\n",
      "batman sing c cooki\n",
      "good song love\n",
      "c clitori found\n",
      "grog strongjaw\n",
      "\n",
      "cooki kuki c cooki kuki magyarok bizto rtik xd\n"
     ]
    }
   ],
   "source": [
    "for sentence in corpus:\n",
    "    print sentence"
   ]
  },
  {
   "cell_type": "code",
   "execution_count": 35,
   "metadata": {
    "collapsed": false
   },
   "outputs": [
    {
     "data": {
      "text/plain": [
       "u'cooki monster startswith letter c cooki start c let sthink thing thatstart c ah caresabout thing c cooki good enough c cooki good enough c cooki good enough oh cooki cooki cookiestart c oh c cooki good enough c cooki good enough c cooki good enough oh cooki cooki cookiestart c hey know round cooki one biteout look like c around donut one bite ofit also look like c butit good cooki moon sometim look likea c eat c cooki good enough yeah c cooki good enough c cooki good enough oh cooki cooki cookiestart c yeah cooki cooki cooki startswith c oh boy cooki cooki cookiestart c'"
      ]
     },
     "execution_count": 35,
     "metadata": {},
     "output_type": "execute_result"
    }
   ],
   "source": [
    "corpus_transcript[0]"
   ]
  },
  {
   "cell_type": "code",
   "execution_count": 36,
   "metadata": {
    "collapsed": false
   },
   "outputs": [
    {
     "name": "stdout",
     "output_type": "stream",
     "text": [
      "SymmetricSimilarity(\"Trancript\", \"love song\") = 0.114742383221\n",
      "\n",
      "SymmetricSimilarity(\"Trancript\", \"cooki monster definit medal gold card mcdonald\") = 0.257210452591\n",
      "\n",
      "SymmetricSimilarity(\"Trancript\", \"c start cup\") = 0.375702861953\n",
      "\n",
      "SymmetricSimilarity(\"Trancript\", \"c\") = 0.720485854725\n",
      "\n",
      "SymmetricSimilarity(\"Trancript\", \"h help bc cooki moster gott help\") = 0.0978608549261\n",
      "\n",
      "SymmetricSimilarity(\"Trancript\", \"cooki monster get diabet\") = 0.406329044996\n",
      "\n",
      "SymmetricSimilarity(\"Trancript\", \"lll\") = 0.0\n",
      "\n",
      "SymmetricSimilarity(\"Trancript\", \"mom dog hat song name cooki\") = 0.107076510446\n",
      "\n",
      "SymmetricSimilarity(\"Trancript\", \"feel like guy attend harvard music\") = 0.147401270227\n",
      "\n",
      "SymmetricSimilarity(\"Trancript\", \"kept sing math class classmat understand\") = 0.162989848316\n",
      "\n",
      "SymmetricSimilarity(\"Trancript\", \"real rap\") = 0.0946313224286\n",
      "\n",
      "SymmetricSimilarity(\"Trancript\", \"head coach lsu\") = 0.108359372937\n",
      "\n",
      "SymmetricSimilarity(\"Trancript\", \"pleas rise nation anthem\") = 0.117752356339\n",
      "\n",
      "SymmetricSimilarity(\"Trancript\", \"love cooki moster song c cooki\") = 0.476501276501\n",
      "\n",
      "SymmetricSimilarity(\"Trancript\", \"rhett link anyon\") = 0.103191313517\n",
      "\n",
      "SymmetricSimilarity(\"Trancript\", \"life\") = 0.153208566796\n",
      "\n",
      "SymmetricSimilarity(\"Trancript\", \"sound like heavi metal\") = 0.114855856704\n",
      "\n",
      "SymmetricSimilarity(\"Trancript\", \"jam st nd grader\") = 0.0917342621147\n",
      "\n",
      "SymmetricSimilarity(\"Trancript\", \"p\") = 0.101260514847\n",
      "\n",
      "SymmetricSimilarity(\"Trancript\", \"penguin know think anoth word\") = 0.250021023662\n",
      "\n",
      "SymmetricSimilarity(\"Trancript\", \"chocol rain\") = 0.0704335803441\n",
      "\n",
      "SymmetricSimilarity(\"Trancript\", \"bite cooki cooki cooki cooki cooki cooki cooki cooki cooki cooki shape like c\") = 0.605297781928\n",
      "\n",
      "SymmetricSimilarity(\"Trancript\", \"lol\") = 0.0\n",
      "\n",
      "SymmetricSimilarity(\"Trancript\", \"\") = 0.0\n",
      "\n",
      "SymmetricSimilarity(\"Trancript\", \"babi nation anthem\") = 0.0914361604579\n",
      "\n",
      "SymmetricSimilarity(\"Trancript\", \"gfu\") = 0.0\n",
      "\n",
      "SymmetricSimilarity(\"Trancript\", \"u\") = 0.0668983953671\n",
      "\n",
      "SymmetricSimilarity(\"Trancript\", \"p poni good enough\") = 0.610511710512\n",
      "\n",
      "SymmetricSimilarity(\"Trancript\", \"c clown presid good\") = 0.815793171475\n",
      "\n",
      "SymmetricSimilarity(\"Trancript\", \"notic oscar sing\") = 0.0937718079022\n",
      "\n",
      "SymmetricSimilarity(\"Trancript\", \"\") = 0.0\n",
      "\n",
      "SymmetricSimilarity(\"Trancript\", \"c fo\") = 0.720485854725\n",
      "\n",
      "SymmetricSimilarity(\"Trancript\", \"smoke canist\") = 0.0758724948269\n",
      "\n",
      "SymmetricSimilarity(\"Trancript\", \"cooki cookieeee cooki cooki\") = 0.0\n",
      "\n",
      "SymmetricSimilarity(\"Trancript\", \"includ oscar grouch monster\") = 0.338838697534\n",
      "\n",
      "SymmetricSimilarity(\"Trancript\", \"cannot stop sing awesom song dont even hlding cooki\") = 0.151320117081\n",
      "\n",
      "SymmetricSimilarity(\"Trancript\", \"song awsom\") = 0.0937718079022\n",
      "\n",
      "SymmetricSimilarity(\"Trancript\", \"feel old\") = 0.0986874112673\n",
      "\n",
      "SymmetricSimilarity(\"Trancript\", \"duet franki boyl better\") = 0.108295918702\n",
      "\n",
      "SymmetricSimilarity(\"Trancript\", \"v veggi good enough\") = 0.620572185751\n",
      "\n",
      "SymmetricSimilarity(\"Trancript\", \"nation anthem comment think nation anthem\") = 0.115829653438\n",
      "\n",
      "SymmetricSimilarity(\"Trancript\", \"love song cute funni\") = 0.114742383221\n",
      "\n",
      "SymmetricSimilarity(\"Trancript\", \"\") = 0.0\n",
      "\n",
      "SymmetricSimilarity(\"Trancript\", \"iv never hard\") = 0.117345758107\n",
      "\n",
      "SymmetricSimilarity(\"Trancript\", \"favorit post grind vegan diabet fur death avant gard pre vegeterian blue core band\") = 0.122832079354\n",
      "\n",
      "SymmetricSimilarity(\"Trancript\", \"sesam street cooki monster sing c cooki season season\") = 0.373138214443\n",
      "\n",
      "SymmetricSimilarity(\"Trancript\", \"favourit song rn\") = 0.0988450559103\n",
      "\n",
      "SymmetricSimilarity(\"Trancript\", \"c covfef good enough\") = 0.855266063302\n",
      "\n",
      "SymmetricSimilarity(\"Trancript\", \"fun fact part cooki monster goe c rest cut look close\") = 0.288756688446\n",
      "\n",
      "SymmetricSimilarity(\"Trancript\", \"still love\") = 0.333333333333\n",
      "\n",
      "SymmetricSimilarity(\"Trancript\", \"strong lyric\") = 0.227342042016\n",
      "\n",
      "SymmetricSimilarity(\"Trancript\", \"love comment thing littl kid parent\") = 0.282258454106\n",
      "\n",
      "SymmetricSimilarity(\"Trancript\", \"older kid teen adult question life desicion\") = 0.163482652613\n",
      "\n",
      "SymmetricSimilarity(\"Trancript\", \"heard year lol\") = 0.120730839209\n",
      "\n",
      "SymmetricSimilarity(\"Trancript\", \"letter chocol c\") = 0.742638189106\n",
      "\n",
      "SymmetricSimilarity(\"Trancript\", \"love cooki\") = 0.131046731047\n",
      "\n",
      "SymmetricSimilarity(\"Trancript\", \"childhood song\") = 0.0970326774675\n",
      "\n",
      "SymmetricSimilarity(\"Trancript\", \"year cooki monster song\") = 0.273565343674\n",
      "\n",
      "SymmetricSimilarity(\"Trancript\", \"help fulli grown adult trap sesam street bing\") = 0.144244071146\n",
      "\n",
      "SymmetricSimilarity(\"Trancript\", \"c c nt mani themat\") = 0.720485854725\n",
      "\n",
      "SymmetricSimilarity(\"Trancript\", \"inde good song know cooki monster song sister believ one replac cooki monster sinc heard rumor replac veggi monster\") = 0.500937471619\n",
      "\n",
      "SymmetricSimilarity(\"Trancript\", \"\") = 0.0\n",
      "\n",
      "SymmetricSimilarity(\"Trancript\", \"love song much nephew use sing sing song littl us marin hahaha\") = 0.143666007905\n",
      "\n",
      "SymmetricSimilarity(\"Trancript\", \"loooooooooool\") = 0.0\n",
      "\n",
      "SymmetricSimilarity(\"Trancript\", \"person find puppi middleton grotesqu look muscular arm bodi make head look larg let eat cooki happi\") = 0.371758664041\n",
      "\n",
      "SymmetricSimilarity(\"Trancript\", \"love cooki\") = 0.131046731047\n",
      "\n",
      "SymmetricSimilarity(\"Trancript\", \"si cooki\") = 0.101260514847\n",
      "\n",
      "SymmetricSimilarity(\"Trancript\", \"hum sorri k kooki\") = 0.196835049009\n",
      "\n",
      "SymmetricSimilarity(\"Trancript\", \"like cooki monster\") = 0.557185434983\n",
      "\n",
      "SymmetricSimilarity(\"Trancript\", \"piano lesson one song\") = 0.101713413398\n",
      "\n",
      "SymmetricSimilarity(\"Trancript\", \"ja rule\") = 0.0905049660484\n",
      "\n",
      "SymmetricSimilarity(\"Trancript\", \"bring back mani memori\") = 0.266666666667\n",
      "\n",
      "SymmetricSimilarity(\"Trancript\", \"star cooki monster sesam street kako oobi\") = 0.292292911219\n",
      "\n",
      "SymmetricSimilarity(\"Trancript\", \"\") = 0.0\n",
      "\n",
      "SymmetricSimilarity(\"Trancript\", \"kid cartoon channel show video famili tyron isiah hargrov brother jessica jay troch big sister show put show\") = 0.134771157696\n",
      "\n",
      "SymmetricSimilarity(\"Trancript\", \"nba k anthem\") = 0.161410147823\n",
      "\n",
      "SymmetricSimilarity(\"Trancript\", \"top anim intro\") = 0.100814583967\n",
      "\n",
      "SymmetricSimilarity(\"Trancript\", \"use channel logo comment\") = 0.0973557843123\n",
      "\n",
      "SymmetricSimilarity(\"Trancript\", \"ehhhh got crave cooki watch\") = 0.160257412268\n",
      "\n",
      "SymmetricSimilarity(\"Trancript\", \"nowday peopl instead cooki iphon social media sometim thing peopl know\") = 0.48814621369\n",
      "\n",
      "SymmetricSimilarity(\"Trancript\", \"littl parent sang c chloe good enough\") = 0.614361487799\n",
      "\n",
      "SymmetricSimilarity(\"Trancript\", \"name chloe\") = 0.103191313517\n",
      "\n",
      "SymmetricSimilarity(\"Trancript\", \"alway wonder c\") = 0.720485854725\n",
      "\n",
      "SymmetricSimilarity(\"Trancript\", \"ha silli cooki monster\") = 0.336114248071\n",
      "\n",
      "SymmetricSimilarity(\"Trancript\", \"good song\") = 0.467123785306\n",
      "\n",
      "SymmetricSimilarity(\"Trancript\", \"web design lectur eat cooki\") = 0.111369126043\n",
      "\n",
      "SymmetricSimilarity(\"Trancript\", \"see grover harri background\") = 0.167451932126\n",
      "\n",
      "SymmetricSimilarity(\"Trancript\", \"c cancer\") = 0.499320395788\n",
      "\n",
      "SymmetricSimilarity(\"Trancript\", \"child alway dream cooki cooki monster\") = 0.365116676801\n",
      "\n",
      "SymmetricSimilarity(\"Trancript\", \"watch\") = 0.0879794486858\n",
      "\n",
      "SymmetricSimilarity(\"Trancript\", \"love\") = 0.131046731047\n",
      "\n",
      "SymmetricSimilarity(\"Trancript\", \"oh god favorit song kid\") = 0.114624505929\n",
      "\n",
      "SymmetricSimilarity(\"Trancript\", \"lol\") = 0.0\n",
      "\n",
      "SymmetricSimilarity(\"Trancript\", \"cool\") = 0.111539788714\n",
      "\n",
      "SymmetricSimilarity(\"Trancript\", \"\") = 0.0\n",
      "\n",
      "SymmetricSimilarity(\"Trancript\", \"nice\") = 0.166666666667\n",
      "\n",
      "SymmetricSimilarity(\"Trancript\", \"anoy\") = 0.0\n",
      "\n",
      "SymmetricSimilarity(\"Trancript\", \"frank oz cooki monster\") = 0.572995711663\n",
      "\n",
      "SymmetricSimilarity(\"Trancript\", \"sesam street alway help rememb jim henson\") = 0.133918728212\n",
      "\n",
      "SymmetricSimilarity(\"Trancript\", \"c cooki good enough\") = 0.855266063302\n",
      "\n",
      "SymmetricSimilarity(\"Trancript\", \"batman sing c cooki\") = 0.435535026568\n",
      "\n",
      "SymmetricSimilarity(\"Trancript\", \"good song love\") = 0.406234590325\n",
      "\n",
      "SymmetricSimilarity(\"Trancript\", \"c clitori found\") = 0.542768463421\n",
      "\n",
      "SymmetricSimilarity(\"Trancript\", \"grog strongjaw\") = 0.0773125709187\n",
      "\n",
      "SymmetricSimilarity(\"Trancript\", \"\") = 0.0\n",
      "\n",
      "SymmetricSimilarity(\"Trancript\", \"cooki kuki c cooki kuki magyarok bizto rtik xd\") = 0.41506965257\n",
      "\n"
     ]
    }
   ],
   "source": [
    "for sentence in corpus:\n",
    "    print \"SymmetricSimilarity(\\\"%s\\\", \\\"%s\\\") = %s\" % (\n",
    "        \"Trancript\", sentence, symmetric_sentence_similarity(corpus_transcript[0], sentence))\n",
    "    print  "
   ]
  },
  {
   "cell_type": "code",
   "execution_count": 41,
   "metadata": {
    "collapsed": false
   },
   "outputs": [
    {
     "name": "stdout",
     "output_type": "stream",
     "text": [
      "{'': 0.0, u'favorit post grind vegan diabet fur death avant gard pre vegeterian blue core band': 0.12283207935381849, u'cooki monster get diabet': 0.4063290449959248, u'see grover harri background': 0.1674519321258452, u'p poni good enough': 0.6105117105117105, u'inde good song know cooki monster song sister believ one replac cooki monster sinc heard rumor replac veggi monster': 0.5009374716192899, u'si cooki': 0.10126051484747135, u'littl parent sang c chloe good enough': 0.614361487799284, u'fun fact part cooki monster goe c rest cut look close': 0.2887566884461294, 'c cancer': 0.4993203957877871, u'watch': 0.08797944868580217, u'cannot stop sing awesom song dont even hlding cooki': 0.15132011708098667, u'c cooki good enough': 0.8552660633017776, 'cool': 0.11153978871370177, u'child alway dream cooki cooki monster': 0.3651166768014594, 'real rap': 0.09463132242863703, u'frank oz cooki monster': 0.5729957116625914, u'smoke canist': 0.07587249482693015, u'older kid teen adult question life desicion': 0.1634826526130874, 'use channel logo comment': 0.09735578431230606, 'still love': 0.3333333333333333, 'lll': 0.0, 'jam st nd grader': 0.09173426211469689, 'gfu': 0.0, u'song awsom': 0.09377180790224268, u'love cooki': 0.13104673104673104, u'ehhhh got crave cooki watch': 0.16025741226811357, 'feel old': 0.09868741126733455, u'includ oscar grouch monster': 0.33883869753434975, 'p': 0.10126051484747135, 'childhood song': 0.09703267746746008, 'head coach lsu': 0.10835937293737805, u'mom dog hat song name cooki': 0.10707651044607566, 'name chloe': 0.10319131351740046, 'loooooooooool': 0.0, u'person find puppi middleton grotesqu look muscular arm bodi make head look larg let eat cooki happi': 0.3717586640412727, u'nowday peopl instead cooki iphon social media sometim thing peopl know': 0.4881462136896919, u'love cooki moster song c cooki': 0.4765012765012765, u'c c nt mani themat': 0.7204858547249852, u'notic oscar sing': 0.09377180790224268, 'c fo': 0.7204858547249852, 'c': 0.7204858547249852, 'ja rule': 0.0905049660484443, u'anoy': 0.0, u'like cooki monster': 0.5571854349827496, u'star cooki monster sesam street kako oobi': 0.29229291121874246, u'c clitori found': 0.5427684634206373, u'nation anthem comment think nation anthem': 0.11582965343834908, 'love': 0.13104673104673104, 'iv never hard': 0.11734575810662767, u'c start cup': 0.37570286195286196, u'feel like guy attend harvard music': 0.1474012702273572, u'sesam street alway help rememb jim henson': 0.1339187282122065, u'bring back mani memori': 0.26666666666666666, u'alway wonder c': 0.7204858547249852, u'heard year lol': 0.12073083920910009, u'ha silli cooki monster': 0.33611424807076984, u'rhett link anyon': 0.10319131351740046, 'lol': 0.0, u'web design lectur eat cooki': 0.11136912604303907, u'penguin know think anoth word': 0.25002102366232803, u'oh god favorit song kid': 0.11462450592885375, u'v veggi good enough': 0.6205721857507571, u'top anim intro': 0.1008145839667579, 'good song': 0.46712378530560356, u'piano lesson one song': 0.101713413398196, u'pleas rise nation anthem': 0.11775235633931287, u'sound like heavi metal': 0.11485585670368277, u'love song cute funni': 0.11474238322064409, u'cooki monster definit medal gold card mcdonald': 0.2572104525908874, u'c clown presid good': 0.8157931714749898, u'bite cooki cooki cooki cooki cooki cooki cooki cooki cooki cooki shape like c': 0.6052977819282168, u'kid cartoon channel show video famili tyron isiah hargrov brother jessica jay troch big sister show put show': 0.1347711576960589, u'c covfef good enough': 0.8552660633017776, u'duet franki boyl better': 0.10829591870192895, 'life': 0.1532085667955233, u'letter chocol c': 0.7426381891055804, u'cooki cookieeee cooki cooki': 0.0, u'strong lyric': 0.2273420420159551, u'hum sorri k kooki': 0.19683504900896207, u'babi nation anthem': 0.09143616045789958, u'chocol rain': 0.07043358034406628, 'grog strongjaw': 0.07731257091870902, u'kept sing math class classmat understand': 0.16298984831593527, 'nice': 0.16666666666666666, u'help fulli grown adult trap sesam street bing': 0.14424407114624507, u'year cooki monster song': 0.2735653436740394, u'h help bc cooki moster gott help': 0.0978608549260723, u'sesam street cooki monster sing c cooki season season': 0.37313821444256223, 'good song love': 0.40623459032549947, u'batman sing c cooki': 0.4355350265676352, u'favourit song rn': 0.09884505591027329, u'love comment thing littl kid parent': 0.28225845410628014, u'cooki kuki c cooki kuki magyarok bizto rtik xd': 0.41506965256965256, u'love song much nephew use sing sing song littl us marin hahaha': 0.14366600790513834, 'love song': 0.11474238322064409, 'u': 0.06689839536706545, 'nba k anthem': 0.1614101478231913}\n"
     ]
    }
   ],
   "source": [
    "from collections import defaultdict\n",
    "similarityDict = []\n",
    "sim_dict = {}\n",
    "for sentence in corpus:\n",
    "    #print \"SymmetricSimilarity(\\\"%s\\\", \\\"%s\\\") = %s\" % (\n",
    "    #    \"Trancript\", sentence, symmetric_sentence_similarity(corpus_transcript[0], sentence))\n",
    "    sim=(symmetric_sentence_similarity(corpus_transcript[0], sentence))\n",
    "    #print sim\n",
    "    sim_dict[sentence] = sim\n",
    "    #print sentence,(symmetric_sentence_similarity(corpus_transcript[0], sentence))\n",
    "    #similarity.append(symmetric_sentence_similarity(corpus_transcript[0], sentence))\n",
    "    #similarity.append(d.copy())\n",
    "print sim_dict\n"
   ]
  },
  {
   "cell_type": "code",
   "execution_count": 46,
   "metadata": {
    "collapsed": true
   },
   "outputs": [],
   "source": []
  },
  {
   "cell_type": "code",
   "execution_count": 50,
   "metadata": {
    "collapsed": true
   },
   "outputs": [],
   "source": [
    "sortedItems = sorted(sim_dict , key=sim_dict.get , reverse = True)"
   ]
  },
  {
   "cell_type": "code",
   "execution_count": 51,
   "metadata": {
    "collapsed": false
   },
   "outputs": [
    {
     "data": {
      "text/plain": [
       "[u'c cooki good enough',\n",
       " u'c covfef good enough',\n",
       " u'c clown presid good',\n",
       " u'letter chocol c',\n",
       " u'c c nt mani themat',\n",
       " 'c fo',\n",
       " 'c',\n",
       " u'alway wonder c',\n",
       " u'v veggi good enough']"
      ]
     },
     "execution_count": 51,
     "metadata": {},
     "output_type": "execute_result"
    }
   ],
   "source": [
    "# Top 10 Similar comments\n",
    "sortedItems[0:9]"
   ]
  },
  {
   "cell_type": "code",
   "execution_count": 52,
   "metadata": {
    "collapsed": false
   },
   "outputs": [
    {
     "name": "stdout",
     "output_type": "stream",
     "text": [
      "(u'c cooki good enough', 0.8552660633017776)\n",
      "(u'c covfef good enough', 0.8552660633017776)\n",
      "(u'c clown presid good', 0.8157931714749898)\n",
      "(u'letter chocol c', 0.7426381891055804)\n",
      "(u'c c nt mani themat', 0.7204858547249852)\n",
      "('c fo', 0.7204858547249852)\n",
      "('c', 0.7204858547249852)\n",
      "(u'alway wonder c', 0.7204858547249852)\n",
      "(u'v veggi good enough', 0.6205721857507571)\n",
      "(u'littl parent sang c chloe good enough', 0.614361487799284)\n",
      "(u'p poni good enough', 0.6105117105117105)\n",
      "(u'bite cooki cooki cooki cooki cooki cooki cooki cooki cooki cooki shape like c', 0.6052977819282168)\n",
      "(u'frank oz cooki monster', 0.5729957116625914)\n",
      "(u'like cooki monster', 0.5571854349827496)\n",
      "(u'c clitori found', 0.5427684634206373)\n",
      "(u'inde good song know cooki monster song sister believ one replac cooki monster sinc heard rumor replac veggi monster', 0.5009374716192899)\n",
      "('c cancer', 0.4993203957877871)\n",
      "(u'nowday peopl instead cooki iphon social media sometim thing peopl know', 0.4881462136896919)\n",
      "(u'love cooki moster song c cooki', 0.4765012765012765)\n",
      "('good song', 0.46712378530560356)\n",
      "(u'batman sing c cooki', 0.4355350265676352)\n",
      "(u'cooki kuki c cooki kuki magyarok bizto rtik xd', 0.41506965256965256)\n",
      "(u'cooki monster get diabet', 0.4063290449959248)\n",
      "('good song love', 0.40623459032549947)\n",
      "(u'c start cup', 0.37570286195286196)\n",
      "(u'sesam street cooki monster sing c cooki season season', 0.37313821444256223)\n",
      "(u'person find puppi middleton grotesqu look muscular arm bodi make head look larg let eat cooki happi', 0.3717586640412727)\n",
      "(u'child alway dream cooki cooki monster', 0.3651166768014594)\n",
      "(u'includ oscar grouch monster', 0.33883869753434975)\n"
     ]
    }
   ],
   "source": [
    "# Top 30 similar comments\n",
    "for element in sortedItems[0:29] :\n",
    "       print (element, d.get(element))"
   ]
  },
  {
   "cell_type": "code",
   "execution_count": null,
   "metadata": {
    "collapsed": true
   },
   "outputs": [],
   "source": []
  },
  {
   "cell_type": "code",
   "execution_count": null,
   "metadata": {
    "collapsed": true
   },
   "outputs": [],
   "source": []
  }
 ],
 "metadata": {
  "kernelspec": {
   "display_name": "Python 2",
   "language": "python",
   "name": "python2"
  },
  "language_info": {
   "codemirror_mode": {
    "name": "ipython",
    "version": 2
   },
   "file_extension": ".py",
   "mimetype": "text/x-python",
   "name": "python",
   "nbconvert_exporter": "python",
   "pygments_lexer": "ipython2",
   "version": "2.7.13"
  }
 },
 "nbformat": 4,
 "nbformat_minor": 2
}
